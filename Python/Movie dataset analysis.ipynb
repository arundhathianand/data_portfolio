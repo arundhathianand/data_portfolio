{
 "cells": [
  {
   "cell_type": "markdown",
   "id": "f8d518de",
   "metadata": {},
   "source": [
    "## Movies Dataset Analysis - Correlation Analysis on overall Revenue"
   ]
  },
  {
   "cell_type": "code",
   "execution_count": 1,
   "id": "d75d3f36",
   "metadata": {
    "ExecuteTime": {
     "end_time": "2021-09-09T21:34:52.159206Z",
     "start_time": "2021-09-09T21:34:50.219153Z"
    }
   },
   "outputs": [],
   "source": [
    "import pandas as pd \n",
    "import numpy as np\n",
    "\n",
    "import matplotlib\n",
    "import matplotlib.pyplot as plt\n",
    "plt.style.use('ggplot')\n",
    "from matplotlib.pyplot import figure\n",
    "\n",
    "import seaborn as sns"
   ]
  },
  {
   "cell_type": "code",
   "execution_count": 2,
   "id": "123b472c",
   "metadata": {
    "ExecuteTime": {
     "end_time": "2021-09-09T21:34:52.165653Z",
     "start_time": "2021-09-09T21:34:52.161932Z"
    }
   },
   "outputs": [],
   "source": [
    "%matplotlib inline\n",
    "matplotlib.rcParams['figure.figsize'] = (12,8)"
   ]
  },
  {
   "cell_type": "code",
   "execution_count": 3,
   "id": "0a90fb09",
   "metadata": {
    "ExecuteTime": {
     "end_time": "2021-09-09T21:34:52.170158Z",
     "start_time": "2021-09-09T21:34:52.167346Z"
    }
   },
   "outputs": [],
   "source": [
    "pd.reset_option('display.max_rows')"
   ]
  },
  {
   "cell_type": "markdown",
   "id": "f3bf5e7e",
   "metadata": {},
   "source": [
    "### Read the dataset into a dataframe"
   ]
  },
  {
   "cell_type": "code",
   "execution_count": 4,
   "id": "db5cdde6",
   "metadata": {
    "ExecuteTime": {
     "end_time": "2021-09-09T21:34:52.211519Z",
     "start_time": "2021-09-09T21:34:52.173149Z"
    }
   },
   "outputs": [],
   "source": [
    "df = pd.read_csv(\"movies.csv\")"
   ]
  },
  {
   "cell_type": "markdown",
   "id": "8390df6b",
   "metadata": {},
   "source": [
    "#### Quick check on the data"
   ]
  },
  {
   "cell_type": "code",
   "execution_count": 5,
   "id": "a5c38eac",
   "metadata": {
    "ExecuteTime": {
     "end_time": "2021-09-09T21:34:52.234233Z",
     "start_time": "2021-09-09T21:34:52.213493Z"
    }
   },
   "outputs": [
    {
     "data": {
      "text/html": [
       "<div>\n",
       "<style scoped>\n",
       "    .dataframe tbody tr th:only-of-type {\n",
       "        vertical-align: middle;\n",
       "    }\n",
       "\n",
       "    .dataframe tbody tr th {\n",
       "        vertical-align: top;\n",
       "    }\n",
       "\n",
       "    .dataframe thead th {\n",
       "        text-align: right;\n",
       "    }\n",
       "</style>\n",
       "<table border=\"1\" class=\"dataframe\">\n",
       "  <thead>\n",
       "    <tr style=\"text-align: right;\">\n",
       "      <th></th>\n",
       "      <th>name</th>\n",
       "      <th>rating</th>\n",
       "      <th>genre</th>\n",
       "      <th>year</th>\n",
       "      <th>released</th>\n",
       "      <th>score</th>\n",
       "      <th>votes</th>\n",
       "      <th>director</th>\n",
       "      <th>writer</th>\n",
       "      <th>star</th>\n",
       "      <th>country</th>\n",
       "      <th>budget</th>\n",
       "      <th>gross</th>\n",
       "      <th>company</th>\n",
       "      <th>runtime</th>\n",
       "    </tr>\n",
       "  </thead>\n",
       "  <tbody>\n",
       "    <tr>\n",
       "      <th>0</th>\n",
       "      <td>The Shining</td>\n",
       "      <td>R</td>\n",
       "      <td>Drama</td>\n",
       "      <td>1980</td>\n",
       "      <td>June 13, 1980 (United States)</td>\n",
       "      <td>8.4</td>\n",
       "      <td>927000.0</td>\n",
       "      <td>Stanley Kubrick</td>\n",
       "      <td>Stephen King</td>\n",
       "      <td>Jack Nicholson</td>\n",
       "      <td>United Kingdom</td>\n",
       "      <td>19000000.0</td>\n",
       "      <td>46998772.0</td>\n",
       "      <td>Warner Bros.</td>\n",
       "      <td>146.0</td>\n",
       "    </tr>\n",
       "    <tr>\n",
       "      <th>1</th>\n",
       "      <td>The Blue Lagoon</td>\n",
       "      <td>R</td>\n",
       "      <td>Adventure</td>\n",
       "      <td>1980</td>\n",
       "      <td>July 2, 1980 (United States)</td>\n",
       "      <td>5.8</td>\n",
       "      <td>65000.0</td>\n",
       "      <td>Randal Kleiser</td>\n",
       "      <td>Henry De Vere Stacpoole</td>\n",
       "      <td>Brooke Shields</td>\n",
       "      <td>United States</td>\n",
       "      <td>4500000.0</td>\n",
       "      <td>58853106.0</td>\n",
       "      <td>Columbia Pictures</td>\n",
       "      <td>104.0</td>\n",
       "    </tr>\n",
       "    <tr>\n",
       "      <th>2</th>\n",
       "      <td>Star Wars: Episode V - The Empire Strikes Back</td>\n",
       "      <td>PG</td>\n",
       "      <td>Action</td>\n",
       "      <td>1980</td>\n",
       "      <td>June 20, 1980 (United States)</td>\n",
       "      <td>8.7</td>\n",
       "      <td>1200000.0</td>\n",
       "      <td>Irvin Kershner</td>\n",
       "      <td>Leigh Brackett</td>\n",
       "      <td>Mark Hamill</td>\n",
       "      <td>United States</td>\n",
       "      <td>18000000.0</td>\n",
       "      <td>538375067.0</td>\n",
       "      <td>Lucasfilm</td>\n",
       "      <td>124.0</td>\n",
       "    </tr>\n",
       "    <tr>\n",
       "      <th>3</th>\n",
       "      <td>Airplane!</td>\n",
       "      <td>PG</td>\n",
       "      <td>Comedy</td>\n",
       "      <td>1980</td>\n",
       "      <td>July 2, 1980 (United States)</td>\n",
       "      <td>7.7</td>\n",
       "      <td>221000.0</td>\n",
       "      <td>Jim Abrahams</td>\n",
       "      <td>Jim Abrahams</td>\n",
       "      <td>Robert Hays</td>\n",
       "      <td>United States</td>\n",
       "      <td>3500000.0</td>\n",
       "      <td>83453539.0</td>\n",
       "      <td>Paramount Pictures</td>\n",
       "      <td>88.0</td>\n",
       "    </tr>\n",
       "    <tr>\n",
       "      <th>4</th>\n",
       "      <td>Caddyshack</td>\n",
       "      <td>R</td>\n",
       "      <td>Comedy</td>\n",
       "      <td>1980</td>\n",
       "      <td>July 25, 1980 (United States)</td>\n",
       "      <td>7.3</td>\n",
       "      <td>108000.0</td>\n",
       "      <td>Harold Ramis</td>\n",
       "      <td>Brian Doyle-Murray</td>\n",
       "      <td>Chevy Chase</td>\n",
       "      <td>United States</td>\n",
       "      <td>6000000.0</td>\n",
       "      <td>39846344.0</td>\n",
       "      <td>Orion Pictures</td>\n",
       "      <td>98.0</td>\n",
       "    </tr>\n",
       "  </tbody>\n",
       "</table>\n",
       "</div>"
      ],
      "text/plain": [
       "                                             name rating      genre  year  \\\n",
       "0                                     The Shining      R      Drama  1980   \n",
       "1                                 The Blue Lagoon      R  Adventure  1980   \n",
       "2  Star Wars: Episode V - The Empire Strikes Back     PG     Action  1980   \n",
       "3                                       Airplane!     PG     Comedy  1980   \n",
       "4                                      Caddyshack      R     Comedy  1980   \n",
       "\n",
       "                        released  score      votes         director  \\\n",
       "0  June 13, 1980 (United States)    8.4   927000.0  Stanley Kubrick   \n",
       "1   July 2, 1980 (United States)    5.8    65000.0   Randal Kleiser   \n",
       "2  June 20, 1980 (United States)    8.7  1200000.0   Irvin Kershner   \n",
       "3   July 2, 1980 (United States)    7.7   221000.0     Jim Abrahams   \n",
       "4  July 25, 1980 (United States)    7.3   108000.0     Harold Ramis   \n",
       "\n",
       "                    writer            star         country      budget  \\\n",
       "0             Stephen King  Jack Nicholson  United Kingdom  19000000.0   \n",
       "1  Henry De Vere Stacpoole  Brooke Shields   United States   4500000.0   \n",
       "2           Leigh Brackett     Mark Hamill   United States  18000000.0   \n",
       "3             Jim Abrahams     Robert Hays   United States   3500000.0   \n",
       "4       Brian Doyle-Murray     Chevy Chase   United States   6000000.0   \n",
       "\n",
       "         gross             company  runtime  \n",
       "0   46998772.0        Warner Bros.    146.0  \n",
       "1   58853106.0   Columbia Pictures    104.0  \n",
       "2  538375067.0           Lucasfilm    124.0  \n",
       "3   83453539.0  Paramount Pictures     88.0  \n",
       "4   39846344.0      Orion Pictures     98.0  "
      ]
     },
     "execution_count": 5,
     "metadata": {},
     "output_type": "execute_result"
    }
   ],
   "source": [
    "df.head()"
   ]
  },
  {
   "cell_type": "markdown",
   "id": "4e39baff",
   "metadata": {
    "ExecuteTime": {
     "end_time": "2021-09-09T20:36:42.380147Z",
     "start_time": "2021-09-09T20:36:42.377090Z"
    }
   },
   "source": [
    "### Data Exploration"
   ]
  },
  {
   "cell_type": "markdown",
   "id": "a84d1767",
   "metadata": {
    "ExecuteTime": {
     "end_time": "2021-09-09T20:36:59.604750Z",
     "start_time": "2021-09-09T20:36:59.602488Z"
    }
   },
   "source": [
    "#### Missing Data"
   ]
  },
  {
   "cell_type": "code",
   "execution_count": 6,
   "id": "93a6f692",
   "metadata": {
    "ExecuteTime": {
     "end_time": "2021-09-09T21:34:52.251611Z",
     "start_time": "2021-09-09T21:34:52.236579Z"
    }
   },
   "outputs": [
    {
     "name": "stdout",
     "output_type": "stream",
     "text": [
      "name - 0\n",
      "rating - 77\n",
      "genre - 0\n",
      "year - 0\n",
      "released - 2\n",
      "score - 3\n",
      "votes - 3\n",
      "director - 0\n",
      "writer - 3\n",
      "star - 1\n",
      "country - 3\n",
      "budget - 2171\n",
      "gross - 189\n",
      "company - 17\n",
      "runtime - 4\n"
     ]
    }
   ],
   "source": [
    "for col in df.columns:\n",
    "    missing = np.sum(df[col].isnull())\n",
    "    print('{} - {}'.format(col, missing))"
   ]
  },
  {
   "cell_type": "markdown",
   "id": "f852ef44",
   "metadata": {},
   "source": [
    "#### Remove rows with missing values"
   ]
  },
  {
   "cell_type": "code",
   "execution_count": 7,
   "id": "a141bf51",
   "metadata": {
    "ExecuteTime": {
     "end_time": "2021-09-09T21:34:52.256462Z",
     "start_time": "2021-09-09T21:34:52.253175Z"
    }
   },
   "outputs": [],
   "source": [
    "movies = df.copy()"
   ]
  },
  {
   "cell_type": "code",
   "execution_count": 8,
   "id": "f3ff13af",
   "metadata": {
    "ExecuteTime": {
     "end_time": "2021-09-09T21:34:52.269523Z",
     "start_time": "2021-09-09T21:34:52.257801Z"
    }
   },
   "outputs": [],
   "source": [
    "movies.dropna(inplace=True)"
   ]
  },
  {
   "cell_type": "code",
   "execution_count": 9,
   "id": "ee479bc3",
   "metadata": {
    "ExecuteTime": {
     "end_time": "2021-09-09T21:34:52.283833Z",
     "start_time": "2021-09-09T21:34:52.271096Z"
    }
   },
   "outputs": [
    {
     "name": "stdout",
     "output_type": "stream",
     "text": [
      "name - 0\n",
      "rating - 0\n",
      "genre - 0\n",
      "year - 0\n",
      "released - 0\n",
      "score - 0\n",
      "votes - 0\n",
      "director - 0\n",
      "writer - 0\n",
      "star - 0\n",
      "country - 0\n",
      "budget - 0\n",
      "gross - 0\n",
      "company - 0\n",
      "runtime - 0\n"
     ]
    }
   ],
   "source": [
    "for col in movies.columns:\n",
    "    missing = np.sum(movies[col].isnull())\n",
    "    print('{} - {}'.format(col, missing))"
   ]
  },
  {
   "cell_type": "markdown",
   "id": "2dfd4009",
   "metadata": {},
   "source": [
    "### Check column data types"
   ]
  },
  {
   "cell_type": "code",
   "execution_count": 10,
   "id": "aa74ffd9",
   "metadata": {
    "ExecuteTime": {
     "end_time": "2021-09-09T21:34:52.294727Z",
     "start_time": "2021-09-09T21:34:52.289696Z"
    }
   },
   "outputs": [
    {
     "data": {
      "text/plain": [
       "name         object\n",
       "rating       object\n",
       "genre        object\n",
       "year          int64\n",
       "released     object\n",
       "score       float64\n",
       "votes       float64\n",
       "director     object\n",
       "writer       object\n",
       "star         object\n",
       "country      object\n",
       "budget      float64\n",
       "gross       float64\n",
       "company      object\n",
       "runtime     float64\n",
       "dtype: object"
      ]
     },
     "execution_count": 10,
     "metadata": {},
     "output_type": "execute_result"
    }
   ],
   "source": [
    "movies.dtypes"
   ]
  },
  {
   "cell_type": "markdown",
   "id": "e91ffff6",
   "metadata": {},
   "source": [
    "#### Change data types"
   ]
  },
  {
   "cell_type": "markdown",
   "id": "59c01e7c",
   "metadata": {},
   "source": [
    "'Budget' and 'Gross' are `float64` type, it would be more useful to have them as integers. "
   ]
  },
  {
   "cell_type": "code",
   "execution_count": 11,
   "id": "0f8c1afd",
   "metadata": {
    "ExecuteTime": {
     "end_time": "2021-09-09T21:34:52.303196Z",
     "start_time": "2021-09-09T21:34:52.297322Z"
    }
   },
   "outputs": [],
   "source": [
    "movies['budget'] = movies['budget'].astype('int64')\n",
    "movies['gross'] = movies['gross'].astype('int64')"
   ]
  },
  {
   "cell_type": "code",
   "execution_count": 12,
   "id": "c70d4b8a",
   "metadata": {
    "ExecuteTime": {
     "end_time": "2021-09-09T21:34:52.327919Z",
     "start_time": "2021-09-09T21:34:52.304734Z"
    },
    "scrolled": true
   },
   "outputs": [
    {
     "data": {
      "text/html": [
       "<div>\n",
       "<style scoped>\n",
       "    .dataframe tbody tr th:only-of-type {\n",
       "        vertical-align: middle;\n",
       "    }\n",
       "\n",
       "    .dataframe tbody tr th {\n",
       "        vertical-align: top;\n",
       "    }\n",
       "\n",
       "    .dataframe thead th {\n",
       "        text-align: right;\n",
       "    }\n",
       "</style>\n",
       "<table border=\"1\" class=\"dataframe\">\n",
       "  <thead>\n",
       "    <tr style=\"text-align: right;\">\n",
       "      <th></th>\n",
       "      <th>name</th>\n",
       "      <th>rating</th>\n",
       "      <th>genre</th>\n",
       "      <th>year</th>\n",
       "      <th>released</th>\n",
       "      <th>score</th>\n",
       "      <th>votes</th>\n",
       "      <th>director</th>\n",
       "      <th>writer</th>\n",
       "      <th>star</th>\n",
       "      <th>country</th>\n",
       "      <th>budget</th>\n",
       "      <th>gross</th>\n",
       "      <th>company</th>\n",
       "      <th>runtime</th>\n",
       "    </tr>\n",
       "  </thead>\n",
       "  <tbody>\n",
       "    <tr>\n",
       "      <th>0</th>\n",
       "      <td>The Shining</td>\n",
       "      <td>R</td>\n",
       "      <td>Drama</td>\n",
       "      <td>1980</td>\n",
       "      <td>June 13, 1980 (United States)</td>\n",
       "      <td>8.4</td>\n",
       "      <td>927000.0</td>\n",
       "      <td>Stanley Kubrick</td>\n",
       "      <td>Stephen King</td>\n",
       "      <td>Jack Nicholson</td>\n",
       "      <td>United Kingdom</td>\n",
       "      <td>19000000</td>\n",
       "      <td>46998772</td>\n",
       "      <td>Warner Bros.</td>\n",
       "      <td>146.0</td>\n",
       "    </tr>\n",
       "    <tr>\n",
       "      <th>1</th>\n",
       "      <td>The Blue Lagoon</td>\n",
       "      <td>R</td>\n",
       "      <td>Adventure</td>\n",
       "      <td>1980</td>\n",
       "      <td>July 2, 1980 (United States)</td>\n",
       "      <td>5.8</td>\n",
       "      <td>65000.0</td>\n",
       "      <td>Randal Kleiser</td>\n",
       "      <td>Henry De Vere Stacpoole</td>\n",
       "      <td>Brooke Shields</td>\n",
       "      <td>United States</td>\n",
       "      <td>4500000</td>\n",
       "      <td>58853106</td>\n",
       "      <td>Columbia Pictures</td>\n",
       "      <td>104.0</td>\n",
       "    </tr>\n",
       "    <tr>\n",
       "      <th>2</th>\n",
       "      <td>Star Wars: Episode V - The Empire Strikes Back</td>\n",
       "      <td>PG</td>\n",
       "      <td>Action</td>\n",
       "      <td>1980</td>\n",
       "      <td>June 20, 1980 (United States)</td>\n",
       "      <td>8.7</td>\n",
       "      <td>1200000.0</td>\n",
       "      <td>Irvin Kershner</td>\n",
       "      <td>Leigh Brackett</td>\n",
       "      <td>Mark Hamill</td>\n",
       "      <td>United States</td>\n",
       "      <td>18000000</td>\n",
       "      <td>538375067</td>\n",
       "      <td>Lucasfilm</td>\n",
       "      <td>124.0</td>\n",
       "    </tr>\n",
       "    <tr>\n",
       "      <th>3</th>\n",
       "      <td>Airplane!</td>\n",
       "      <td>PG</td>\n",
       "      <td>Comedy</td>\n",
       "      <td>1980</td>\n",
       "      <td>July 2, 1980 (United States)</td>\n",
       "      <td>7.7</td>\n",
       "      <td>221000.0</td>\n",
       "      <td>Jim Abrahams</td>\n",
       "      <td>Jim Abrahams</td>\n",
       "      <td>Robert Hays</td>\n",
       "      <td>United States</td>\n",
       "      <td>3500000</td>\n",
       "      <td>83453539</td>\n",
       "      <td>Paramount Pictures</td>\n",
       "      <td>88.0</td>\n",
       "    </tr>\n",
       "    <tr>\n",
       "      <th>4</th>\n",
       "      <td>Caddyshack</td>\n",
       "      <td>R</td>\n",
       "      <td>Comedy</td>\n",
       "      <td>1980</td>\n",
       "      <td>July 25, 1980 (United States)</td>\n",
       "      <td>7.3</td>\n",
       "      <td>108000.0</td>\n",
       "      <td>Harold Ramis</td>\n",
       "      <td>Brian Doyle-Murray</td>\n",
       "      <td>Chevy Chase</td>\n",
       "      <td>United States</td>\n",
       "      <td>6000000</td>\n",
       "      <td>39846344</td>\n",
       "      <td>Orion Pictures</td>\n",
       "      <td>98.0</td>\n",
       "    </tr>\n",
       "    <tr>\n",
       "      <th>...</th>\n",
       "      <td>...</td>\n",
       "      <td>...</td>\n",
       "      <td>...</td>\n",
       "      <td>...</td>\n",
       "      <td>...</td>\n",
       "      <td>...</td>\n",
       "      <td>...</td>\n",
       "      <td>...</td>\n",
       "      <td>...</td>\n",
       "      <td>...</td>\n",
       "      <td>...</td>\n",
       "      <td>...</td>\n",
       "      <td>...</td>\n",
       "      <td>...</td>\n",
       "      <td>...</td>\n",
       "    </tr>\n",
       "    <tr>\n",
       "      <th>7648</th>\n",
       "      <td>Bad Boys for Life</td>\n",
       "      <td>R</td>\n",
       "      <td>Action</td>\n",
       "      <td>2020</td>\n",
       "      <td>January 17, 2020 (United States)</td>\n",
       "      <td>6.6</td>\n",
       "      <td>140000.0</td>\n",
       "      <td>Adil El Arbi</td>\n",
       "      <td>Peter Craig</td>\n",
       "      <td>Will Smith</td>\n",
       "      <td>United States</td>\n",
       "      <td>90000000</td>\n",
       "      <td>426505244</td>\n",
       "      <td>Columbia Pictures</td>\n",
       "      <td>124.0</td>\n",
       "    </tr>\n",
       "    <tr>\n",
       "      <th>7649</th>\n",
       "      <td>Sonic the Hedgehog</td>\n",
       "      <td>PG</td>\n",
       "      <td>Action</td>\n",
       "      <td>2020</td>\n",
       "      <td>February 14, 2020 (United States)</td>\n",
       "      <td>6.5</td>\n",
       "      <td>102000.0</td>\n",
       "      <td>Jeff Fowler</td>\n",
       "      <td>Pat Casey</td>\n",
       "      <td>Ben Schwartz</td>\n",
       "      <td>United States</td>\n",
       "      <td>85000000</td>\n",
       "      <td>319715683</td>\n",
       "      <td>Paramount Pictures</td>\n",
       "      <td>99.0</td>\n",
       "    </tr>\n",
       "    <tr>\n",
       "      <th>7650</th>\n",
       "      <td>Dolittle</td>\n",
       "      <td>PG</td>\n",
       "      <td>Adventure</td>\n",
       "      <td>2020</td>\n",
       "      <td>January 17, 2020 (United States)</td>\n",
       "      <td>5.6</td>\n",
       "      <td>53000.0</td>\n",
       "      <td>Stephen Gaghan</td>\n",
       "      <td>Stephen Gaghan</td>\n",
       "      <td>Robert Downey Jr.</td>\n",
       "      <td>United States</td>\n",
       "      <td>175000000</td>\n",
       "      <td>245487753</td>\n",
       "      <td>Universal Pictures</td>\n",
       "      <td>101.0</td>\n",
       "    </tr>\n",
       "    <tr>\n",
       "      <th>7651</th>\n",
       "      <td>The Call of the Wild</td>\n",
       "      <td>PG</td>\n",
       "      <td>Adventure</td>\n",
       "      <td>2020</td>\n",
       "      <td>February 21, 2020 (United States)</td>\n",
       "      <td>6.8</td>\n",
       "      <td>42000.0</td>\n",
       "      <td>Chris Sanders</td>\n",
       "      <td>Michael Green</td>\n",
       "      <td>Harrison Ford</td>\n",
       "      <td>Canada</td>\n",
       "      <td>135000000</td>\n",
       "      <td>111105497</td>\n",
       "      <td>20th Century Studios</td>\n",
       "      <td>100.0</td>\n",
       "    </tr>\n",
       "    <tr>\n",
       "      <th>7652</th>\n",
       "      <td>The Eight Hundred</td>\n",
       "      <td>Not Rated</td>\n",
       "      <td>Action</td>\n",
       "      <td>2020</td>\n",
       "      <td>August 28, 2020 (United States)</td>\n",
       "      <td>6.8</td>\n",
       "      <td>3700.0</td>\n",
       "      <td>Hu Guan</td>\n",
       "      <td>Hu Guan</td>\n",
       "      <td>Zhi-zhong Huang</td>\n",
       "      <td>China</td>\n",
       "      <td>80000000</td>\n",
       "      <td>461421559</td>\n",
       "      <td>Beijing Diqi Yinxiang Entertainment</td>\n",
       "      <td>149.0</td>\n",
       "    </tr>\n",
       "  </tbody>\n",
       "</table>\n",
       "<p>5421 rows × 15 columns</p>\n",
       "</div>"
      ],
      "text/plain": [
       "                                                name     rating      genre  \\\n",
       "0                                        The Shining          R      Drama   \n",
       "1                                    The Blue Lagoon          R  Adventure   \n",
       "2     Star Wars: Episode V - The Empire Strikes Back         PG     Action   \n",
       "3                                          Airplane!         PG     Comedy   \n",
       "4                                         Caddyshack          R     Comedy   \n",
       "...                                              ...        ...        ...   \n",
       "7648                               Bad Boys for Life          R     Action   \n",
       "7649                              Sonic the Hedgehog         PG     Action   \n",
       "7650                                        Dolittle         PG  Adventure   \n",
       "7651                            The Call of the Wild         PG  Adventure   \n",
       "7652                               The Eight Hundred  Not Rated     Action   \n",
       "\n",
       "      year                           released  score      votes  \\\n",
       "0     1980      June 13, 1980 (United States)    8.4   927000.0   \n",
       "1     1980       July 2, 1980 (United States)    5.8    65000.0   \n",
       "2     1980      June 20, 1980 (United States)    8.7  1200000.0   \n",
       "3     1980       July 2, 1980 (United States)    7.7   221000.0   \n",
       "4     1980      July 25, 1980 (United States)    7.3   108000.0   \n",
       "...    ...                                ...    ...        ...   \n",
       "7648  2020   January 17, 2020 (United States)    6.6   140000.0   \n",
       "7649  2020  February 14, 2020 (United States)    6.5   102000.0   \n",
       "7650  2020   January 17, 2020 (United States)    5.6    53000.0   \n",
       "7651  2020  February 21, 2020 (United States)    6.8    42000.0   \n",
       "7652  2020    August 28, 2020 (United States)    6.8     3700.0   \n",
       "\n",
       "             director                   writer               star  \\\n",
       "0     Stanley Kubrick             Stephen King     Jack Nicholson   \n",
       "1      Randal Kleiser  Henry De Vere Stacpoole     Brooke Shields   \n",
       "2      Irvin Kershner           Leigh Brackett        Mark Hamill   \n",
       "3        Jim Abrahams             Jim Abrahams        Robert Hays   \n",
       "4        Harold Ramis       Brian Doyle-Murray        Chevy Chase   \n",
       "...               ...                      ...                ...   \n",
       "7648     Adil El Arbi              Peter Craig         Will Smith   \n",
       "7649      Jeff Fowler                Pat Casey       Ben Schwartz   \n",
       "7650   Stephen Gaghan           Stephen Gaghan  Robert Downey Jr.   \n",
       "7651    Chris Sanders            Michael Green      Harrison Ford   \n",
       "7652          Hu Guan                  Hu Guan    Zhi-zhong Huang   \n",
       "\n",
       "             country     budget      gross  \\\n",
       "0     United Kingdom   19000000   46998772   \n",
       "1      United States    4500000   58853106   \n",
       "2      United States   18000000  538375067   \n",
       "3      United States    3500000   83453539   \n",
       "4      United States    6000000   39846344   \n",
       "...              ...        ...        ...   \n",
       "7648   United States   90000000  426505244   \n",
       "7649   United States   85000000  319715683   \n",
       "7650   United States  175000000  245487753   \n",
       "7651          Canada  135000000  111105497   \n",
       "7652           China   80000000  461421559   \n",
       "\n",
       "                                  company  runtime  \n",
       "0                            Warner Bros.    146.0  \n",
       "1                       Columbia Pictures    104.0  \n",
       "2                               Lucasfilm    124.0  \n",
       "3                      Paramount Pictures     88.0  \n",
       "4                          Orion Pictures     98.0  \n",
       "...                                   ...      ...  \n",
       "7648                    Columbia Pictures    124.0  \n",
       "7649                   Paramount Pictures     99.0  \n",
       "7650                   Universal Pictures    101.0  \n",
       "7651                 20th Century Studios    100.0  \n",
       "7652  Beijing Diqi Yinxiang Entertainment    149.0  \n",
       "\n",
       "[5421 rows x 15 columns]"
      ]
     },
     "execution_count": 12,
     "metadata": {},
     "output_type": "execute_result"
    }
   ],
   "source": [
    "movies"
   ]
  },
  {
   "cell_type": "code",
   "execution_count": 13,
   "id": "585ff9af",
   "metadata": {
    "ExecuteTime": {
     "end_time": "2021-09-09T21:34:52.352495Z",
     "start_time": "2021-09-09T21:34:52.329837Z"
    }
   },
   "outputs": [
    {
     "data": {
      "text/html": [
       "<div>\n",
       "<style scoped>\n",
       "    .dataframe tbody tr th:only-of-type {\n",
       "        vertical-align: middle;\n",
       "    }\n",
       "\n",
       "    .dataframe tbody tr th {\n",
       "        vertical-align: top;\n",
       "    }\n",
       "\n",
       "    .dataframe thead th {\n",
       "        text-align: right;\n",
       "    }\n",
       "</style>\n",
       "<table border=\"1\" class=\"dataframe\">\n",
       "  <thead>\n",
       "    <tr style=\"text-align: right;\">\n",
       "      <th></th>\n",
       "      <th>name</th>\n",
       "      <th>rating</th>\n",
       "      <th>genre</th>\n",
       "      <th>year</th>\n",
       "      <th>released</th>\n",
       "      <th>score</th>\n",
       "      <th>votes</th>\n",
       "      <th>director</th>\n",
       "      <th>writer</th>\n",
       "      <th>star</th>\n",
       "      <th>country</th>\n",
       "      <th>budget</th>\n",
       "      <th>gross</th>\n",
       "      <th>company</th>\n",
       "      <th>runtime</th>\n",
       "    </tr>\n",
       "  </thead>\n",
       "  <tbody>\n",
       "    <tr>\n",
       "      <th>5445</th>\n",
       "      <td>Avatar</td>\n",
       "      <td>PG-13</td>\n",
       "      <td>Action</td>\n",
       "      <td>2009</td>\n",
       "      <td>December 18, 2009 (United States)</td>\n",
       "      <td>7.8</td>\n",
       "      <td>1100000.0</td>\n",
       "      <td>James Cameron</td>\n",
       "      <td>James Cameron</td>\n",
       "      <td>Sam Worthington</td>\n",
       "      <td>United States</td>\n",
       "      <td>237000000</td>\n",
       "      <td>2847246203</td>\n",
       "      <td>Twentieth Century Fox</td>\n",
       "      <td>162.0</td>\n",
       "    </tr>\n",
       "    <tr>\n",
       "      <th>7445</th>\n",
       "      <td>Avengers: Endgame</td>\n",
       "      <td>PG-13</td>\n",
       "      <td>Action</td>\n",
       "      <td>2019</td>\n",
       "      <td>April 26, 2019 (United States)</td>\n",
       "      <td>8.4</td>\n",
       "      <td>903000.0</td>\n",
       "      <td>Anthony Russo</td>\n",
       "      <td>Christopher Markus</td>\n",
       "      <td>Robert Downey Jr.</td>\n",
       "      <td>United States</td>\n",
       "      <td>356000000</td>\n",
       "      <td>2797501328</td>\n",
       "      <td>Marvel Studios</td>\n",
       "      <td>181.0</td>\n",
       "    </tr>\n",
       "    <tr>\n",
       "      <th>3045</th>\n",
       "      <td>Titanic</td>\n",
       "      <td>PG-13</td>\n",
       "      <td>Drama</td>\n",
       "      <td>1997</td>\n",
       "      <td>December 19, 1997 (United States)</td>\n",
       "      <td>7.8</td>\n",
       "      <td>1100000.0</td>\n",
       "      <td>James Cameron</td>\n",
       "      <td>James Cameron</td>\n",
       "      <td>Leonardo DiCaprio</td>\n",
       "      <td>United States</td>\n",
       "      <td>200000000</td>\n",
       "      <td>2201647264</td>\n",
       "      <td>Twentieth Century Fox</td>\n",
       "      <td>194.0</td>\n",
       "    </tr>\n",
       "    <tr>\n",
       "      <th>6663</th>\n",
       "      <td>Star Wars: Episode VII - The Force Awakens</td>\n",
       "      <td>PG-13</td>\n",
       "      <td>Action</td>\n",
       "      <td>2015</td>\n",
       "      <td>December 18, 2015 (United States)</td>\n",
       "      <td>7.8</td>\n",
       "      <td>876000.0</td>\n",
       "      <td>J.J. Abrams</td>\n",
       "      <td>Lawrence Kasdan</td>\n",
       "      <td>Daisy Ridley</td>\n",
       "      <td>United States</td>\n",
       "      <td>245000000</td>\n",
       "      <td>2069521700</td>\n",
       "      <td>Lucasfilm</td>\n",
       "      <td>138.0</td>\n",
       "    </tr>\n",
       "    <tr>\n",
       "      <th>7244</th>\n",
       "      <td>Avengers: Infinity War</td>\n",
       "      <td>PG-13</td>\n",
       "      <td>Action</td>\n",
       "      <td>2018</td>\n",
       "      <td>April 27, 2018 (United States)</td>\n",
       "      <td>8.4</td>\n",
       "      <td>897000.0</td>\n",
       "      <td>Anthony Russo</td>\n",
       "      <td>Christopher Markus</td>\n",
       "      <td>Robert Downey Jr.</td>\n",
       "      <td>United States</td>\n",
       "      <td>321000000</td>\n",
       "      <td>2048359754</td>\n",
       "      <td>Marvel Studios</td>\n",
       "      <td>149.0</td>\n",
       "    </tr>\n",
       "    <tr>\n",
       "      <th>...</th>\n",
       "      <td>...</td>\n",
       "      <td>...</td>\n",
       "      <td>...</td>\n",
       "      <td>...</td>\n",
       "      <td>...</td>\n",
       "      <td>...</td>\n",
       "      <td>...</td>\n",
       "      <td>...</td>\n",
       "      <td>...</td>\n",
       "      <td>...</td>\n",
       "      <td>...</td>\n",
       "      <td>...</td>\n",
       "      <td>...</td>\n",
       "      <td>...</td>\n",
       "      <td>...</td>\n",
       "    </tr>\n",
       "    <tr>\n",
       "      <th>5640</th>\n",
       "      <td>Tanner Hall</td>\n",
       "      <td>R</td>\n",
       "      <td>Drama</td>\n",
       "      <td>2009</td>\n",
       "      <td>January 15, 2015 (Sweden)</td>\n",
       "      <td>5.8</td>\n",
       "      <td>3500.0</td>\n",
       "      <td>Francesca Gregorini</td>\n",
       "      <td>Tatiana von Fürstenberg</td>\n",
       "      <td>Rooney Mara</td>\n",
       "      <td>United States</td>\n",
       "      <td>3000000</td>\n",
       "      <td>5073</td>\n",
       "      <td>Two Prong Lesson</td>\n",
       "      <td>96.0</td>\n",
       "    </tr>\n",
       "    <tr>\n",
       "      <th>2434</th>\n",
       "      <td>Philadelphia Experiment II</td>\n",
       "      <td>PG-13</td>\n",
       "      <td>Action</td>\n",
       "      <td>1993</td>\n",
       "      <td>June 4, 1994 (South Korea)</td>\n",
       "      <td>4.5</td>\n",
       "      <td>1900.0</td>\n",
       "      <td>Stephen Cornwell</td>\n",
       "      <td>Wallace C. Bennett</td>\n",
       "      <td>Brad Johnson</td>\n",
       "      <td>United States</td>\n",
       "      <td>5000000</td>\n",
       "      <td>2970</td>\n",
       "      <td>Trimark Pictures</td>\n",
       "      <td>97.0</td>\n",
       "    </tr>\n",
       "    <tr>\n",
       "      <th>3681</th>\n",
       "      <td>Ginger Snaps</td>\n",
       "      <td>Not Rated</td>\n",
       "      <td>Drama</td>\n",
       "      <td>2000</td>\n",
       "      <td>May 11, 2001 (Canada)</td>\n",
       "      <td>6.8</td>\n",
       "      <td>43000.0</td>\n",
       "      <td>John Fawcett</td>\n",
       "      <td>Karen Walton</td>\n",
       "      <td>Emily Perkins</td>\n",
       "      <td>Canada</td>\n",
       "      <td>5000000</td>\n",
       "      <td>2554</td>\n",
       "      <td>Copperheart Entertainment</td>\n",
       "      <td>108.0</td>\n",
       "    </tr>\n",
       "    <tr>\n",
       "      <th>272</th>\n",
       "      <td>Parasite</td>\n",
       "      <td>R</td>\n",
       "      <td>Horror</td>\n",
       "      <td>1982</td>\n",
       "      <td>March 12, 1982 (United States)</td>\n",
       "      <td>3.9</td>\n",
       "      <td>2300.0</td>\n",
       "      <td>Charles Band</td>\n",
       "      <td>Alan J. Adler</td>\n",
       "      <td>Robert Glaudini</td>\n",
       "      <td>United States</td>\n",
       "      <td>800000</td>\n",
       "      <td>2270</td>\n",
       "      <td>Embassy Pictures</td>\n",
       "      <td>85.0</td>\n",
       "    </tr>\n",
       "    <tr>\n",
       "      <th>3203</th>\n",
       "      <td>Trojan War</td>\n",
       "      <td>PG-13</td>\n",
       "      <td>Comedy</td>\n",
       "      <td>1997</td>\n",
       "      <td>October 1, 1997 (Brazil)</td>\n",
       "      <td>5.7</td>\n",
       "      <td>5800.0</td>\n",
       "      <td>George Huang</td>\n",
       "      <td>Andy Burg</td>\n",
       "      <td>Will Friedle</td>\n",
       "      <td>United States</td>\n",
       "      <td>15000000</td>\n",
       "      <td>309</td>\n",
       "      <td>Daybreak</td>\n",
       "      <td>85.0</td>\n",
       "    </tr>\n",
       "  </tbody>\n",
       "</table>\n",
       "<p>5421 rows × 15 columns</p>\n",
       "</div>"
      ],
      "text/plain": [
       "                                            name     rating   genre  year  \\\n",
       "5445                                      Avatar      PG-13  Action  2009   \n",
       "7445                           Avengers: Endgame      PG-13  Action  2019   \n",
       "3045                                     Titanic      PG-13   Drama  1997   \n",
       "6663  Star Wars: Episode VII - The Force Awakens      PG-13  Action  2015   \n",
       "7244                      Avengers: Infinity War      PG-13  Action  2018   \n",
       "...                                          ...        ...     ...   ...   \n",
       "5640                                 Tanner Hall          R   Drama  2009   \n",
       "2434                  Philadelphia Experiment II      PG-13  Action  1993   \n",
       "3681                                Ginger Snaps  Not Rated   Drama  2000   \n",
       "272                                     Parasite          R  Horror  1982   \n",
       "3203                                  Trojan War      PG-13  Comedy  1997   \n",
       "\n",
       "                               released  score      votes  \\\n",
       "5445  December 18, 2009 (United States)    7.8  1100000.0   \n",
       "7445     April 26, 2019 (United States)    8.4   903000.0   \n",
       "3045  December 19, 1997 (United States)    7.8  1100000.0   \n",
       "6663  December 18, 2015 (United States)    7.8   876000.0   \n",
       "7244     April 27, 2018 (United States)    8.4   897000.0   \n",
       "...                                 ...    ...        ...   \n",
       "5640          January 15, 2015 (Sweden)    5.8     3500.0   \n",
       "2434         June 4, 1994 (South Korea)    4.5     1900.0   \n",
       "3681              May 11, 2001 (Canada)    6.8    43000.0   \n",
       "272      March 12, 1982 (United States)    3.9     2300.0   \n",
       "3203           October 1, 1997 (Brazil)    5.7     5800.0   \n",
       "\n",
       "                 director                   writer               star  \\\n",
       "5445        James Cameron            James Cameron    Sam Worthington   \n",
       "7445        Anthony Russo       Christopher Markus  Robert Downey Jr.   \n",
       "3045        James Cameron            James Cameron  Leonardo DiCaprio   \n",
       "6663          J.J. Abrams          Lawrence Kasdan       Daisy Ridley   \n",
       "7244        Anthony Russo       Christopher Markus  Robert Downey Jr.   \n",
       "...                   ...                      ...                ...   \n",
       "5640  Francesca Gregorini  Tatiana von Fürstenberg        Rooney Mara   \n",
       "2434     Stephen Cornwell       Wallace C. Bennett       Brad Johnson   \n",
       "3681         John Fawcett             Karen Walton      Emily Perkins   \n",
       "272          Charles Band            Alan J. Adler    Robert Glaudini   \n",
       "3203         George Huang                Andy Burg       Will Friedle   \n",
       "\n",
       "            country     budget       gross                    company  runtime  \n",
       "5445  United States  237000000  2847246203      Twentieth Century Fox    162.0  \n",
       "7445  United States  356000000  2797501328             Marvel Studios    181.0  \n",
       "3045  United States  200000000  2201647264      Twentieth Century Fox    194.0  \n",
       "6663  United States  245000000  2069521700                  Lucasfilm    138.0  \n",
       "7244  United States  321000000  2048359754             Marvel Studios    149.0  \n",
       "...             ...        ...         ...                        ...      ...  \n",
       "5640  United States    3000000        5073           Two Prong Lesson     96.0  \n",
       "2434  United States    5000000        2970           Trimark Pictures     97.0  \n",
       "3681         Canada    5000000        2554  Copperheart Entertainment    108.0  \n",
       "272   United States     800000        2270           Embassy Pictures     85.0  \n",
       "3203  United States   15000000         309                   Daybreak     85.0  \n",
       "\n",
       "[5421 rows x 15 columns]"
      ]
     },
     "execution_count": 13,
     "metadata": {},
     "output_type": "execute_result"
    }
   ],
   "source": [
    "movies.sort_values(by=['gross'], inplace=False, ascending=False)"
   ]
  },
  {
   "cell_type": "markdown",
   "id": "3525ea21",
   "metadata": {},
   "source": [
    "### Checking fields which have high correlation with _gross_"
   ]
  },
  {
   "cell_type": "markdown",
   "id": "7a2bc7d8",
   "metadata": {},
   "source": [
    "#### Scatterplot: _budget_ vs _gross_"
   ]
  },
  {
   "cell_type": "code",
   "execution_count": 14,
   "id": "3b279e10",
   "metadata": {
    "ExecuteTime": {
     "end_time": "2021-09-09T21:34:52.634906Z",
     "start_time": "2021-09-09T21:34:52.353926Z"
    }
   },
   "outputs": [
    {
     "data": {
      "text/plain": [
       "<function matplotlib.pyplot.show(close=None, block=None)>"
      ]
     },
     "execution_count": 14,
     "metadata": {},
     "output_type": "execute_result"
    },
    {
     "data": {
      "image/png": "[encoded data removed]",
      "text/plain": [
       "<Figure size 864x576 with 1 Axes>"
      ]
     },
     "metadata": {
      "needs_background": "light"
     },
     "output_type": "display_data"
    }
   ],
   "source": [
    "plt.scatter(x=movies['budget'], y=movies['gross'])\n",
    "plt.title('Budget vs. Gross Earnings')\n",
    "plt.xlabel('Film Budget')\n",
    "plt.ylabel('Gross Earnings')\n",
    "plt.show"
   ]
  },
  {
   "cell_type": "markdown",
   "id": "aa9b61f9",
   "metadata": {},
   "source": [
    "#### Regression Plot "
   ]
  },
  {
   "cell_type": "code",
   "execution_count": 15,
   "id": "942c29a1",
   "metadata": {
    "ExecuteTime": {
     "end_time": "2021-09-09T21:34:53.063092Z",
     "start_time": "2021-09-09T21:34:52.636607Z"
    }
   },
   "outputs": [
    {
     "data": {
      "text/plain": [
       "<AxesSubplot:xlabel='budget', ylabel='gross'>"
      ]
     },
     "execution_count": 15,
     "metadata": {},
     "output_type": "execute_result"
    },
    {
     "data": {
      "image/png": "[encoded data removed]",
      "text/plain": [
       "<Figure size 864x576 with 1 Axes>"
      ]
     },
     "metadata": {
      "needs_background": "light"
     },
     "output_type": "display_data"
    }
   ],
   "source": [
    "# Reg plot using seaborn\n",
    "\n",
    "sns.regplot(x = 'budget', y = 'gross', data = movies, scatter_kws={'color':'red'}, line_kws={'color':'blue'})"
   ]
  },
  {
   "cell_type": "markdown",
   "id": "838295c4",
   "metadata": {},
   "source": [
    "#### Correlation between numeric fields "
   ]
  },
  {
   "cell_type": "code",
   "execution_count": 16,
   "id": "a2f37561",
   "metadata": {
    "ExecuteTime": {
     "end_time": "2021-09-09T21:34:53.076152Z",
     "start_time": "2021-09-09T21:34:53.064848Z"
    }
   },
   "outputs": [
    {
     "data": {
      "text/html": [
       "<div>\n",
       "<style scoped>\n",
       "    .dataframe tbody tr th:only-of-type {\n",
       "        vertical-align: middle;\n",
       "    }\n",
       "\n",
       "    .dataframe tbody tr th {\n",
       "        vertical-align: top;\n",
       "    }\n",
       "\n",
       "    .dataframe thead th {\n",
       "        text-align: right;\n",
       "    }\n",
       "</style>\n",
       "<table border=\"1\" class=\"dataframe\">\n",
       "  <thead>\n",
       "    <tr style=\"text-align: right;\">\n",
       "      <th></th>\n",
       "      <th>year</th>\n",
       "      <th>score</th>\n",
       "      <th>votes</th>\n",
       "      <th>budget</th>\n",
       "      <th>gross</th>\n",
       "      <th>runtime</th>\n",
       "    </tr>\n",
       "  </thead>\n",
       "  <tbody>\n",
       "    <tr>\n",
       "      <th>year</th>\n",
       "      <td>1.000000</td>\n",
       "      <td>0.097995</td>\n",
       "      <td>0.222945</td>\n",
       "      <td>0.329321</td>\n",
       "      <td>0.257486</td>\n",
       "      <td>0.120811</td>\n",
       "    </tr>\n",
       "    <tr>\n",
       "      <th>score</th>\n",
       "      <td>0.097995</td>\n",
       "      <td>1.000000</td>\n",
       "      <td>0.409182</td>\n",
       "      <td>0.076254</td>\n",
       "      <td>0.186258</td>\n",
       "      <td>0.399451</td>\n",
       "    </tr>\n",
       "    <tr>\n",
       "      <th>votes</th>\n",
       "      <td>0.222945</td>\n",
       "      <td>0.409182</td>\n",
       "      <td>1.000000</td>\n",
       "      <td>0.442429</td>\n",
       "      <td>0.630757</td>\n",
       "      <td>0.309212</td>\n",
       "    </tr>\n",
       "    <tr>\n",
       "      <th>budget</th>\n",
       "      <td>0.329321</td>\n",
       "      <td>0.076254</td>\n",
       "      <td>0.442429</td>\n",
       "      <td>1.000000</td>\n",
       "      <td>0.740395</td>\n",
       "      <td>0.320447</td>\n",
       "    </tr>\n",
       "    <tr>\n",
       "      <th>gross</th>\n",
       "      <td>0.257486</td>\n",
       "      <td>0.186258</td>\n",
       "      <td>0.630757</td>\n",
       "      <td>0.740395</td>\n",
       "      <td>1.000000</td>\n",
       "      <td>0.245216</td>\n",
       "    </tr>\n",
       "    <tr>\n",
       "      <th>runtime</th>\n",
       "      <td>0.120811</td>\n",
       "      <td>0.399451</td>\n",
       "      <td>0.309212</td>\n",
       "      <td>0.320447</td>\n",
       "      <td>0.245216</td>\n",
       "      <td>1.000000</td>\n",
       "    </tr>\n",
       "  </tbody>\n",
       "</table>\n",
       "</div>"
      ],
      "text/plain": [
       "             year     score     votes    budget     gross   runtime\n",
       "year     1.000000  0.097995  0.222945  0.329321  0.257486  0.120811\n",
       "score    0.097995  1.000000  0.409182  0.076254  0.186258  0.399451\n",
       "votes    0.222945  0.409182  1.000000  0.442429  0.630757  0.309212\n",
       "budget   0.329321  0.076254  0.442429  1.000000  0.740395  0.320447\n",
       "gross    0.257486  0.186258  0.630757  0.740395  1.000000  0.245216\n",
       "runtime  0.120811  0.399451  0.309212  0.320447  0.245216  1.000000"
      ]
     },
     "execution_count": 16,
     "metadata": {},
     "output_type": "execute_result"
    }
   ],
   "source": [
    "# Pearson correlation\n",
    "df.corr(method = 'pearson')"
   ]
  },
  {
   "cell_type": "code",
   "execution_count": 17,
   "id": "999a0ac8",
   "metadata": {
    "ExecuteTime": {
     "end_time": "2021-09-09T21:34:53.330488Z",
     "start_time": "2021-09-09T21:34:53.078380Z"
    }
   },
   "outputs": [
    {
     "data": {
      "text/html": [
       "<div>\n",
       "<style scoped>\n",
       "    .dataframe tbody tr th:only-of-type {\n",
       "        vertical-align: middle;\n",
       "    }\n",
       "\n",
       "    .dataframe tbody tr th {\n",
       "        vertical-align: top;\n",
       "    }\n",
       "\n",
       "    .dataframe thead th {\n",
       "        text-align: right;\n",
       "    }\n",
       "</style>\n",
       "<table border=\"1\" class=\"dataframe\">\n",
       "  <thead>\n",
       "    <tr style=\"text-align: right;\">\n",
       "      <th></th>\n",
       "      <th>year</th>\n",
       "      <th>score</th>\n",
       "      <th>votes</th>\n",
       "      <th>budget</th>\n",
       "      <th>gross</th>\n",
       "      <th>runtime</th>\n",
       "    </tr>\n",
       "  </thead>\n",
       "  <tbody>\n",
       "    <tr>\n",
       "      <th>year</th>\n",
       "      <td>1.000000</td>\n",
       "      <td>0.037749</td>\n",
       "      <td>0.329880</td>\n",
       "      <td>0.205717</td>\n",
       "      <td>0.204287</td>\n",
       "      <td>0.077972</td>\n",
       "    </tr>\n",
       "    <tr>\n",
       "      <th>score</th>\n",
       "      <td>0.037749</td>\n",
       "      <td>1.000000</td>\n",
       "      <td>0.290087</td>\n",
       "      <td>-0.017930</td>\n",
       "      <td>0.084564</td>\n",
       "      <td>0.257305</td>\n",
       "    </tr>\n",
       "    <tr>\n",
       "      <th>votes</th>\n",
       "      <td>0.329880</td>\n",
       "      <td>0.290087</td>\n",
       "      <td>1.000000</td>\n",
       "      <td>0.332833</td>\n",
       "      <td>0.547583</td>\n",
       "      <td>0.176884</td>\n",
       "    </tr>\n",
       "    <tr>\n",
       "      <th>budget</th>\n",
       "      <td>0.205717</td>\n",
       "      <td>-0.017930</td>\n",
       "      <td>0.332833</td>\n",
       "      <td>1.000000</td>\n",
       "      <td>0.508358</td>\n",
       "      <td>0.213223</td>\n",
       "    </tr>\n",
       "    <tr>\n",
       "      <th>gross</th>\n",
       "      <td>0.204287</td>\n",
       "      <td>0.084564</td>\n",
       "      <td>0.547583</td>\n",
       "      <td>0.508358</td>\n",
       "      <td>1.000000</td>\n",
       "      <td>0.148357</td>\n",
       "    </tr>\n",
       "    <tr>\n",
       "      <th>runtime</th>\n",
       "      <td>0.077972</td>\n",
       "      <td>0.257305</td>\n",
       "      <td>0.176884</td>\n",
       "      <td>0.213223</td>\n",
       "      <td>0.148357</td>\n",
       "      <td>1.000000</td>\n",
       "    </tr>\n",
       "  </tbody>\n",
       "</table>\n",
       "</div>"
      ],
      "text/plain": [
       "             year     score     votes    budget     gross   runtime\n",
       "year     1.000000  0.037749  0.329880  0.205717  0.204287  0.077972\n",
       "score    0.037749  1.000000  0.290087 -0.017930  0.084564  0.257305\n",
       "votes    0.329880  0.290087  1.000000  0.332833  0.547583  0.176884\n",
       "budget   0.205717 -0.017930  0.332833  1.000000  0.508358  0.213223\n",
       "gross    0.204287  0.084564  0.547583  0.508358  1.000000  0.148357\n",
       "runtime  0.077972  0.257305  0.176884  0.213223  0.148357  1.000000"
      ]
     },
     "execution_count": 17,
     "metadata": {},
     "output_type": "execute_result"
    }
   ],
   "source": [
    "# Kendall correlation\n",
    "df.corr(method = 'kendall')"
   ]
  },
  {
   "cell_type": "code",
   "execution_count": 18,
   "id": "5639a286",
   "metadata": {
    "ExecuteTime": {
     "end_time": "2021-09-09T21:34:53.363055Z",
     "start_time": "2021-09-09T21:34:53.332248Z"
    }
   },
   "outputs": [
    {
     "data": {
      "text/html": [
       "<div>\n",
       "<style scoped>\n",
       "    .dataframe tbody tr th:only-of-type {\n",
       "        vertical-align: middle;\n",
       "    }\n",
       "\n",
       "    .dataframe tbody tr th {\n",
       "        vertical-align: top;\n",
       "    }\n",
       "\n",
       "    .dataframe thead th {\n",
       "        text-align: right;\n",
       "    }\n",
       "</style>\n",
       "<table border=\"1\" class=\"dataframe\">\n",
       "  <thead>\n",
       "    <tr style=\"text-align: right;\">\n",
       "      <th></th>\n",
       "      <th>year</th>\n",
       "      <th>score</th>\n",
       "      <th>votes</th>\n",
       "      <th>budget</th>\n",
       "      <th>gross</th>\n",
       "      <th>runtime</th>\n",
       "    </tr>\n",
       "  </thead>\n",
       "  <tbody>\n",
       "    <tr>\n",
       "      <th>year</th>\n",
       "      <td>1.000000</td>\n",
       "      <td>0.099045</td>\n",
       "      <td>0.469829</td>\n",
       "      <td>0.317336</td>\n",
       "      <td>0.293084</td>\n",
       "      <td>0.142977</td>\n",
       "    </tr>\n",
       "    <tr>\n",
       "      <th>score</th>\n",
       "      <td>0.099045</td>\n",
       "      <td>1.000000</td>\n",
       "      <td>0.428138</td>\n",
       "      <td>-0.001403</td>\n",
       "      <td>0.126116</td>\n",
       "      <td>0.399857</td>\n",
       "    </tr>\n",
       "    <tr>\n",
       "      <th>votes</th>\n",
       "      <td>0.469829</td>\n",
       "      <td>0.428138</td>\n",
       "      <td>1.000000</td>\n",
       "      <td>0.502466</td>\n",
       "      <td>0.742050</td>\n",
       "      <td>0.290159</td>\n",
       "    </tr>\n",
       "    <tr>\n",
       "      <th>budget</th>\n",
       "      <td>0.317336</td>\n",
       "      <td>-0.001403</td>\n",
       "      <td>0.502466</td>\n",
       "      <td>1.000000</td>\n",
       "      <td>0.693670</td>\n",
       "      <td>0.336370</td>\n",
       "    </tr>\n",
       "    <tr>\n",
       "      <th>gross</th>\n",
       "      <td>0.293084</td>\n",
       "      <td>0.126116</td>\n",
       "      <td>0.742050</td>\n",
       "      <td>0.693670</td>\n",
       "      <td>1.000000</td>\n",
       "      <td>0.246243</td>\n",
       "    </tr>\n",
       "    <tr>\n",
       "      <th>runtime</th>\n",
       "      <td>0.142977</td>\n",
       "      <td>0.399857</td>\n",
       "      <td>0.290159</td>\n",
       "      <td>0.336370</td>\n",
       "      <td>0.246243</td>\n",
       "      <td>1.000000</td>\n",
       "    </tr>\n",
       "  </tbody>\n",
       "</table>\n",
       "</div>"
      ],
      "text/plain": [
       "             year     score     votes    budget     gross   runtime\n",
       "year     1.000000  0.099045  0.469829  0.317336  0.293084  0.142977\n",
       "score    0.099045  1.000000  0.428138 -0.001403  0.126116  0.399857\n",
       "votes    0.469829  0.428138  1.000000  0.502466  0.742050  0.290159\n",
       "budget   0.317336 -0.001403  0.502466  1.000000  0.693670  0.336370\n",
       "gross    0.293084  0.126116  0.742050  0.693670  1.000000  0.246243\n",
       "runtime  0.142977  0.399857  0.290159  0.336370  0.246243  1.000000"
      ]
     },
     "execution_count": 18,
     "metadata": {},
     "output_type": "execute_result"
    }
   ],
   "source": [
    "# Spearman correlation\n",
    "df.corr(method = 'spearman')"
   ]
  },
  {
   "cell_type": "markdown",
   "id": "912d9c0d",
   "metadata": {
    "ExecuteTime": {
     "end_time": "2021-09-09T21:17:40.171128Z",
     "start_time": "2021-09-09T21:17:40.168444Z"
    }
   },
   "source": [
    "#### Correlation Matrix "
   ]
  },
  {
   "cell_type": "code",
   "execution_count": 19,
   "id": "3f2e22c8",
   "metadata": {
    "ExecuteTime": {
     "end_time": "2021-09-09T21:34:53.599180Z",
     "start_time": "2021-09-09T21:34:53.364915Z"
    }
   },
   "outputs": [
    {
     "data": {
      "image/png": "[encoded data removed]",
      "text/plain": [
       "<Figure size 864x576 with 2 Axes>"
      ]
     },
     "metadata": {
      "needs_background": "light"
     },
     "output_type": "display_data"
    }
   ],
   "source": [
    "corr_matrix = movies.corr(method='pearson')\n",
    "\n",
    "sns.heatmap(corr_matrix, annot=True)\n",
    "\n",
    "plt.title('Correlation Matrix for Numeric Features')\n",
    "plt.show()"
   ]
  },
  {
   "cell_type": "markdown",
   "id": "c745ced3",
   "metadata": {},
   "source": [
    "#### Incorporating categorical variables into the correlation matrix"
   ]
  },
  {
   "cell_type": "code",
   "execution_count": 20,
   "id": "3d13201f",
   "metadata": {
    "ExecuteTime": {
     "end_time": "2021-09-09T21:34:53.651271Z",
     "start_time": "2021-09-09T21:34:53.600876Z"
    }
   },
   "outputs": [
    {
     "data": {
      "text/html": [
       "<div>\n",
       "<style scoped>\n",
       "    .dataframe tbody tr th:only-of-type {\n",
       "        vertical-align: middle;\n",
       "    }\n",
       "\n",
       "    .dataframe tbody tr th {\n",
       "        vertical-align: top;\n",
       "    }\n",
       "\n",
       "    .dataframe thead th {\n",
       "        text-align: right;\n",
       "    }\n",
       "</style>\n",
       "<table border=\"1\" class=\"dataframe\">\n",
       "  <thead>\n",
       "    <tr style=\"text-align: right;\">\n",
       "      <th></th>\n",
       "      <th>name</th>\n",
       "      <th>rating</th>\n",
       "      <th>genre</th>\n",
       "      <th>year</th>\n",
       "      <th>released</th>\n",
       "      <th>score</th>\n",
       "      <th>votes</th>\n",
       "      <th>director</th>\n",
       "      <th>writer</th>\n",
       "      <th>star</th>\n",
       "      <th>country</th>\n",
       "      <th>budget</th>\n",
       "      <th>gross</th>\n",
       "      <th>company</th>\n",
       "      <th>runtime</th>\n",
       "    </tr>\n",
       "  </thead>\n",
       "  <tbody>\n",
       "    <tr>\n",
       "      <th>5445</th>\n",
       "      <td>386</td>\n",
       "      <td>5</td>\n",
       "      <td>0</td>\n",
       "      <td>2009</td>\n",
       "      <td>527</td>\n",
       "      <td>7.8</td>\n",
       "      <td>1100000.0</td>\n",
       "      <td>785</td>\n",
       "      <td>1263</td>\n",
       "      <td>1534</td>\n",
       "      <td>47</td>\n",
       "      <td>237000000</td>\n",
       "      <td>2847246203</td>\n",
       "      <td>1382</td>\n",
       "      <td>162.0</td>\n",
       "    </tr>\n",
       "    <tr>\n",
       "      <th>7445</th>\n",
       "      <td>388</td>\n",
       "      <td>5</td>\n",
       "      <td>0</td>\n",
       "      <td>2019</td>\n",
       "      <td>137</td>\n",
       "      <td>8.4</td>\n",
       "      <td>903000.0</td>\n",
       "      <td>105</td>\n",
       "      <td>513</td>\n",
       "      <td>1470</td>\n",
       "      <td>47</td>\n",
       "      <td>356000000</td>\n",
       "      <td>2797501328</td>\n",
       "      <td>983</td>\n",
       "      <td>181.0</td>\n",
       "    </tr>\n",
       "    <tr>\n",
       "      <th>3045</th>\n",
       "      <td>4909</td>\n",
       "      <td>5</td>\n",
       "      <td>6</td>\n",
       "      <td>1997</td>\n",
       "      <td>534</td>\n",
       "      <td>7.8</td>\n",
       "      <td>1100000.0</td>\n",
       "      <td>785</td>\n",
       "      <td>1263</td>\n",
       "      <td>1073</td>\n",
       "      <td>47</td>\n",
       "      <td>200000000</td>\n",
       "      <td>2201647264</td>\n",
       "      <td>1382</td>\n",
       "      <td>194.0</td>\n",
       "    </tr>\n",
       "    <tr>\n",
       "      <th>6663</th>\n",
       "      <td>3643</td>\n",
       "      <td>5</td>\n",
       "      <td>0</td>\n",
       "      <td>2015</td>\n",
       "      <td>529</td>\n",
       "      <td>7.8</td>\n",
       "      <td>876000.0</td>\n",
       "      <td>768</td>\n",
       "      <td>1806</td>\n",
       "      <td>356</td>\n",
       "      <td>47</td>\n",
       "      <td>245000000</td>\n",
       "      <td>2069521700</td>\n",
       "      <td>945</td>\n",
       "      <td>138.0</td>\n",
       "    </tr>\n",
       "    <tr>\n",
       "      <th>7244</th>\n",
       "      <td>389</td>\n",
       "      <td>5</td>\n",
       "      <td>0</td>\n",
       "      <td>2018</td>\n",
       "      <td>145</td>\n",
       "      <td>8.4</td>\n",
       "      <td>897000.0</td>\n",
       "      <td>105</td>\n",
       "      <td>513</td>\n",
       "      <td>1470</td>\n",
       "      <td>47</td>\n",
       "      <td>321000000</td>\n",
       "      <td>2048359754</td>\n",
       "      <td>983</td>\n",
       "      <td>149.0</td>\n",
       "    </tr>\n",
       "    <tr>\n",
       "      <th>...</th>\n",
       "      <td>...</td>\n",
       "      <td>...</td>\n",
       "      <td>...</td>\n",
       "      <td>...</td>\n",
       "      <td>...</td>\n",
       "      <td>...</td>\n",
       "      <td>...</td>\n",
       "      <td>...</td>\n",
       "      <td>...</td>\n",
       "      <td>...</td>\n",
       "      <td>...</td>\n",
       "      <td>...</td>\n",
       "      <td>...</td>\n",
       "      <td>...</td>\n",
       "      <td>...</td>\n",
       "    </tr>\n",
       "    <tr>\n",
       "      <th>5640</th>\n",
       "      <td>3794</td>\n",
       "      <td>6</td>\n",
       "      <td>6</td>\n",
       "      <td>2009</td>\n",
       "      <td>890</td>\n",
       "      <td>5.8</td>\n",
       "      <td>3500.0</td>\n",
       "      <td>585</td>\n",
       "      <td>2924</td>\n",
       "      <td>1498</td>\n",
       "      <td>47</td>\n",
       "      <td>3000000</td>\n",
       "      <td>5073</td>\n",
       "      <td>1385</td>\n",
       "      <td>96.0</td>\n",
       "    </tr>\n",
       "    <tr>\n",
       "      <th>2434</th>\n",
       "      <td>2969</td>\n",
       "      <td>5</td>\n",
       "      <td>0</td>\n",
       "      <td>1993</td>\n",
       "      <td>1467</td>\n",
       "      <td>4.5</td>\n",
       "      <td>1900.0</td>\n",
       "      <td>1805</td>\n",
       "      <td>3102</td>\n",
       "      <td>186</td>\n",
       "      <td>47</td>\n",
       "      <td>5000000</td>\n",
       "      <td>2970</td>\n",
       "      <td>1376</td>\n",
       "      <td>97.0</td>\n",
       "    </tr>\n",
       "    <tr>\n",
       "      <th>3681</th>\n",
       "      <td>1595</td>\n",
       "      <td>3</td>\n",
       "      <td>6</td>\n",
       "      <td>2000</td>\n",
       "      <td>1721</td>\n",
       "      <td>6.8</td>\n",
       "      <td>43000.0</td>\n",
       "      <td>952</td>\n",
       "      <td>1683</td>\n",
       "      <td>527</td>\n",
       "      <td>6</td>\n",
       "      <td>5000000</td>\n",
       "      <td>2554</td>\n",
       "      <td>466</td>\n",
       "      <td>108.0</td>\n",
       "    </tr>\n",
       "    <tr>\n",
       "      <th>272</th>\n",
       "      <td>2909</td>\n",
       "      <td>6</td>\n",
       "      <td>9</td>\n",
       "      <td>1982</td>\n",
       "      <td>1525</td>\n",
       "      <td>3.9</td>\n",
       "      <td>2300.0</td>\n",
       "      <td>261</td>\n",
       "      <td>55</td>\n",
       "      <td>1473</td>\n",
       "      <td>47</td>\n",
       "      <td>800000</td>\n",
       "      <td>2270</td>\n",
       "      <td>582</td>\n",
       "      <td>85.0</td>\n",
       "    </tr>\n",
       "    <tr>\n",
       "      <th>3203</th>\n",
       "      <td>4966</td>\n",
       "      <td>5</td>\n",
       "      <td>4</td>\n",
       "      <td>1997</td>\n",
       "      <td>2152</td>\n",
       "      <td>5.7</td>\n",
       "      <td>5800.0</td>\n",
       "      <td>651</td>\n",
       "      <td>161</td>\n",
       "      <td>1811</td>\n",
       "      <td>47</td>\n",
       "      <td>15000000</td>\n",
       "      <td>309</td>\n",
       "      <td>504</td>\n",
       "      <td>85.0</td>\n",
       "    </tr>\n",
       "  </tbody>\n",
       "</table>\n",
       "<p>5421 rows × 15 columns</p>\n",
       "</div>"
      ],
      "text/plain": [
       "      name  rating  genre  year  released  score      votes  director  writer  \\\n",
       "5445   386       5      0  2009       527    7.8  1100000.0       785    1263   \n",
       "7445   388       5      0  2019       137    8.4   903000.0       105     513   \n",
       "3045  4909       5      6  1997       534    7.8  1100000.0       785    1263   \n",
       "6663  3643       5      0  2015       529    7.8   876000.0       768    1806   \n",
       "7244   389       5      0  2018       145    8.4   897000.0       105     513   \n",
       "...    ...     ...    ...   ...       ...    ...        ...       ...     ...   \n",
       "5640  3794       6      6  2009       890    5.8     3500.0       585    2924   \n",
       "2434  2969       5      0  1993      1467    4.5     1900.0      1805    3102   \n",
       "3681  1595       3      6  2000      1721    6.8    43000.0       952    1683   \n",
       "272   2909       6      9  1982      1525    3.9     2300.0       261      55   \n",
       "3203  4966       5      4  1997      2152    5.7     5800.0       651     161   \n",
       "\n",
       "      star  country     budget       gross  company  runtime  \n",
       "5445  1534       47  237000000  2847246203     1382    162.0  \n",
       "7445  1470       47  356000000  2797501328      983    181.0  \n",
       "3045  1073       47  200000000  2201647264     1382    194.0  \n",
       "6663   356       47  245000000  2069521700      945    138.0  \n",
       "7244  1470       47  321000000  2048359754      983    149.0  \n",
       "...    ...      ...        ...         ...      ...      ...  \n",
       "5640  1498       47    3000000        5073     1385     96.0  \n",
       "2434   186       47    5000000        2970     1376     97.0  \n",
       "3681   527        6    5000000        2554      466    108.0  \n",
       "272   1473       47     800000        2270      582     85.0  \n",
       "3203  1811       47   15000000         309      504     85.0  \n",
       "\n",
       "[5421 rows x 15 columns]"
      ]
     },
     "execution_count": 20,
     "metadata": {},
     "output_type": "execute_result"
    }
   ],
   "source": [
    "movies_numerized = movies\n",
    "\n",
    "for col in movies_numerized.columns:\n",
    "    if(movies_numerized[col].dtype == 'object'):\n",
    "        movies_numerized[col] = movies_numerized[col].astype('category')\n",
    "        movies_numerized[col] = movies_numerized[col].cat.codes\n",
    "        \n",
    "movies_numerized.sort_values(by=['gross'], inplace=False, ascending=False)"
   ]
  },
  {
   "cell_type": "code",
   "execution_count": 21,
   "id": "7574d100",
   "metadata": {
    "ExecuteTime": {
     "end_time": "2021-09-09T21:34:54.579410Z",
     "start_time": "2021-09-09T21:34:53.653350Z"
    }
   },
   "outputs": [
    {
     "data": {
      "image/png": "[encoded data removed]",
      "text/plain": [
       "<Figure size 864x576 with 2 Axes>"
      ]
     },
     "metadata": {
      "needs_background": "light"
     },
     "output_type": "display_data"
    }
   ],
   "source": [
    "corr_matrix = movies_numerized.corr(method='pearson')\n",
    "\n",
    "sns.heatmap(corr_matrix, annot=True)\n",
    "\n",
    "plt.title('Correlation Matrix for Numeric Features')\n",
    "plt.show()"
   ]
  },
  {
   "cell_type": "code",
   "execution_count": 22,
   "id": "b6633f59",
   "metadata": {
    "ExecuteTime": {
     "end_time": "2021-09-09T21:34:54.584556Z",
     "start_time": "2021-09-09T21:34:54.580965Z"
    }
   },
   "outputs": [],
   "source": [
    "corr_pairs = corr_matrix.unstack()"
   ]
  },
  {
   "cell_type": "code",
   "execution_count": 23,
   "id": "256b37d3",
   "metadata": {
    "ExecuteTime": {
     "end_time": "2021-09-09T21:34:54.590034Z",
     "start_time": "2021-09-09T21:34:54.586755Z"
    }
   },
   "outputs": [],
   "source": [
    "sorted_pairs = corr_pairs.sort_values()"
   ]
  },
  {
   "cell_type": "code",
   "execution_count": 24,
   "id": "a1c96dfc",
   "metadata": {
    "ExecuteTime": {
     "end_time": "2021-09-09T21:34:54.597596Z",
     "start_time": "2021-09-09T21:34:54.592107Z"
    }
   },
   "outputs": [
    {
     "data": {
      "text/plain": [
       "votes     gross       0.614751\n",
       "gross     votes       0.614751\n",
       "          budget      0.740247\n",
       "budget    gross       0.740247\n",
       "name      name        1.000000\n",
       "director  director    1.000000\n",
       "gross     gross       1.000000\n",
       "budget    budget      1.000000\n",
       "country   country     1.000000\n",
       "star      star        1.000000\n",
       "writer    writer      1.000000\n",
       "votes     votes       1.000000\n",
       "score     score       1.000000\n",
       "released  released    1.000000\n",
       "year      year        1.000000\n",
       "genre     genre       1.000000\n",
       "rating    rating      1.000000\n",
       "company   company     1.000000\n",
       "runtime   runtime     1.000000\n",
       "dtype: float64"
      ]
     },
     "execution_count": 24,
     "metadata": {},
     "output_type": "execute_result"
    }
   ],
   "source": [
    "high_corr = sorted_pairs[(sorted_pairs) > 0.5]\n",
    "high_corr"
   ]
  },
  {
   "cell_type": "markdown",
   "id": "8f209fba",
   "metadata": {},
   "source": [
    "### Conclusion"
   ]
  },
  {
   "cell_type": "markdown",
   "id": "86549481",
   "metadata": {},
   "source": [
    "Votes and Film Budget  have the highest impact on Gross Revenue"
   ]
  },
  {
   "cell_type": "code",
   "execution_count": null,
   "id": "ddc6cabd",
   "metadata": {},
   "outputs": [],
   "source": []
  }
 ],
 "metadata": {
  "kernelspec": {
   "display_name": "Python 3 (ipykernel)",
   "language": "python",
   "name": "python3"
  },
  "language_info": {
   "codemirror_mode": {
    "name": "ipython",
    "version": 3
   },
   "file_extension": ".py",
   "mimetype": "text/x-python",
   "name": "python",
   "nbconvert_exporter": "python",
   "pygments_lexer": "ipython3",
   "version": "3.8.3"
  },
  "varInspector": {
   "cols": {
    "lenName": 16,
    "lenType": 16,
    "lenVar": 40
   },
   "kernels_config": {
    "python": {
     "delete_cmd_postfix": "",
     "delete_cmd_prefix": "del ",
     "library": "var_list.py",
     "varRefreshCmd": "print(var_dic_list())"
    },
    "r": {
     "delete_cmd_postfix": ") ",
     "delete_cmd_prefix": "rm(",
     "library": "var_list.r",
     "varRefreshCmd": "cat(var_dic_list()) "
    }
   },
   "types_to_exclude": [
    "module",
    "function",
    "builtin_function_or_method",
    "instance",
    "_Feature"
   ],
   "window_display": false
  }
 },
 "nbformat": 4,
 "nbformat_minor": 5
}
